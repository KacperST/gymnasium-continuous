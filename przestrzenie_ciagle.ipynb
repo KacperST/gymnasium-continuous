{
 "cells": [
  {
   "cell_type": "markdown",
   "source": [
    "# Środowiska ciągłe\n",
    "### Katarzyna Stępień, Alicja Wójcik, Kacper Stankiewicz"
   ],
   "metadata": {
    "id": "LnpEGHrLSRtr"
   }
  },
  {
   "cell_type": "code",
   "execution_count": 1,
   "metadata": {
    "id": "s9O2vG7oOb6h",
    "ExecuteTime": {
     "end_time": "2024-05-19T19:41:52.706006900Z",
     "start_time": "2024-05-19T19:41:52.125296400Z"
    }
   },
   "outputs": [],
   "source": [
    "# for autoformatting\n",
    "# %load_ext jupyter_black"
   ]
  },
  {
   "cell_type": "code",
   "execution_count": 1,
   "metadata": {
    "id": "gWskDE2c9WoN",
    "ExecuteTime": {
     "end_time": "2024-05-19T20:02:42.766743600Z",
     "start_time": "2024-05-19T19:52:47.374808500Z"
    }
   },
   "outputs": [
    {
     "name": "stdout",
     "output_type": "stream",
     "text": [
      "/bin/bash: warning: setlocale: LC_ALL: cannot change locale (en_US.UTF-8)\r\n",
      "E: Could not open lock file /var/lib/dpkg/lock-frontend - open (13: Permission denied)\r\n",
      "E: Unable to acquire the dpkg frontend lock (/var/lib/dpkg/lock-frontend), are you root?\r\n",
      "/bin/bash: warning: setlocale: LC_ALL: cannot change locale (en_US.UTF-8)\r\n",
      "Defaulting to user installation because normal site-packages is not writeable\r\n",
      "Collecting stable-baselines3[extra]>=2.0.0a4\r\n",
      "  Downloading stable_baselines3-2.4.0a1-py3-none-any.whl (182 kB)\r\n",
      "\u001B[2K     \u001B[90m━━━━━━━━━━━━━━━━━━━━━━━━━━━━━━━━━━━━━━━\u001B[0m \u001B[32m182.3/182.3 KB\u001B[0m \u001B[31m1.6 MB/s\u001B[0m eta \u001B[36m0:00:00\u001B[0ma \u001B[36m0:00:01\u001B[0m\r\n",
      "\u001B[?25hRequirement already satisfied: matplotlib in /home/hikari/.local/lib/python3.10/site-packages (from stable-baselines3[extra]>=2.0.0a4) (3.8.3)\r\n",
      "Collecting cloudpickle\r\n",
      "  Downloading cloudpickle-3.0.0-py3-none-any.whl (20 kB)\r\n",
      "Collecting torch>=1.13\r\n",
      "  Downloading torch-2.3.0-cp310-cp310-manylinux1_x86_64.whl (779.1 MB)\r\n",
      "\u001B[2K     \u001B[90m━━━━━━━━━━━━━━━━━━━━━━━━━━━━━━━━━━━━━━━\u001B[0m \u001B[32m779.1/779.1 MB\u001B[0m \u001B[31m1.0 MB/s\u001B[0m eta \u001B[36m0:00:00\u001B[0m00:01\u001B[0m00:02\u001B[0m\r\n",
      "\u001B[?25hCollecting gymnasium<0.30,>=0.28.1\r\n",
      "  Downloading gymnasium-0.29.1-py3-none-any.whl (953 kB)\r\n",
      "\u001B[2K     \u001B[90m━━━━━━━━━━━━━━━━━━━━━━━━━━━━━━━━━━━━━━\u001B[0m \u001B[32m953.9/953.9 KB\u001B[0m \u001B[31m15.4 MB/s\u001B[0m eta \u001B[36m0:00:00\u001B[0ma \u001B[36m0:00:01\u001B[0m\r\n",
      "\u001B[?25hRequirement already satisfied: numpy>=1.20 in /home/hikari/.local/lib/python3.10/site-packages (from stable-baselines3[extra]>=2.0.0a4) (1.26.4)\r\n",
      "Collecting pandas\r\n",
      "  Downloading pandas-2.2.2-cp310-cp310-manylinux_2_17_x86_64.manylinux2014_x86_64.whl (13.0 MB)\r\n",
      "\u001B[2K     \u001B[90m━━━━━━━━━━━━━━━━━━━━━━━━━━━━━━━━━━━━━━━━\u001B[0m \u001B[32m13.0/13.0 MB\u001B[0m \u001B[31m7.5 MB/s\u001B[0m eta \u001B[36m0:00:00\u001B[0m00:01\u001B[0m00:01\u001B[0m\r\n",
      "\u001B[?25hRequirement already satisfied: opencv-python in /home/hikari/.local/lib/python3.10/site-packages (from stable-baselines3[extra]>=2.0.0a4) (4.9.0.80)\r\n",
      "Collecting autorom[accept-rom-license]~=0.6.1\r\n",
      "  Downloading AutoROM-0.6.1-py3-none-any.whl (9.4 kB)\r\n",
      "Requirement already satisfied: psutil in /home/hikari/.local/lib/python3.10/site-packages (from stable-baselines3[extra]>=2.0.0a4) (5.9.8)\r\n",
      "Collecting rich\r\n",
      "  Downloading rich-13.7.1-py3-none-any.whl (240 kB)\r\n",
      "\u001B[2K     \u001B[90m━━━━━━━━━━━━━━━━━━━━━━━━━━━━━━━━━━━━━━━\u001B[0m \u001B[32m240.7/240.7 KB\u001B[0m \u001B[31m9.4 MB/s\u001B[0m eta \u001B[36m0:00:00\u001B[0m\r\n",
      "\u001B[?25hCollecting pygame\r\n",
      "  Downloading pygame-2.5.2-cp310-cp310-manylinux_2_17_x86_64.manylinux2014_x86_64.whl (14.0 MB)\r\n",
      "\u001B[2K     \u001B[90m━━━━━━━━━━━━━━━━━━━━━━━━━━━━━━━━━━━━━━━━\u001B[0m \u001B[32m14.0/14.0 MB\u001B[0m \u001B[31m7.5 MB/s\u001B[0m eta \u001B[36m0:00:00\u001B[0m00:01\u001B[0m00:01\u001B[0m\r\n",
      "\u001B[?25hCollecting tensorboard>=2.9.1\r\n",
      "  Downloading tensorboard-2.16.2-py3-none-any.whl (5.5 MB)\r\n",
      "\u001B[2K     \u001B[90m━━━━━━━━━━━━━━━━━━━━━━━━━━━━━━━━━━━━━━━━\u001B[0m \u001B[32m5.5/5.5 MB\u001B[0m \u001B[31m7.7 MB/s\u001B[0m eta \u001B[36m0:00:00\u001B[0m00:01\u001B[0m00:01\u001B[0mm\r\n",
      "\u001B[?25hCollecting shimmy[atari]~=1.3.0\r\n",
      "  Downloading Shimmy-1.3.0-py3-none-any.whl (37 kB)\r\n",
      "Requirement already satisfied: tqdm in /home/hikari/.local/lib/python3.10/site-packages (from stable-baselines3[extra]>=2.0.0a4) (4.66.1)\r\n",
      "Requirement already satisfied: pillow in /home/hikari/.local/lib/python3.10/site-packages (from stable-baselines3[extra]>=2.0.0a4) (10.2.0)\r\n",
      "Requirement already satisfied: click in /home/hikari/.local/lib/python3.10/site-packages (from autorom[accept-rom-license]~=0.6.1->stable-baselines3[extra]>=2.0.0a4) (8.1.7)\r\n",
      "Requirement already satisfied: requests in /home/hikari/.local/lib/python3.10/site-packages (from autorom[accept-rom-license]~=0.6.1->stable-baselines3[extra]>=2.0.0a4) (2.31.0)\r\n",
      "Collecting AutoROM.accept-rom-license\r\n",
      "  Downloading AutoROM.accept-rom-license-0.6.1.tar.gz (434 kB)\r\n",
      "\u001B[2K     \u001B[90m━━━━━━━━━━━━━━━━━━━━━━━━━━━━━━━━━━━━━━━\u001B[0m \u001B[32m434.7/434.7 KB\u001B[0m \u001B[31m9.9 MB/s\u001B[0m eta \u001B[36m0:00:00\u001B[0m00:01\u001B[0m\r\n",
      "\u001B[?25h  Installing build dependencies ... \u001B[?25ldone\r\n",
      "\u001B[?25h  Getting requirements to build wheel ... \u001B[?25ldone\r\n",
      "\u001B[?25h  Preparing metadata (pyproject.toml) ... \u001B[?25ldone\r\n",
      "\u001B[?25hRequirement already satisfied: typing-extensions>=4.3.0 in /home/hikari/.local/lib/python3.10/site-packages (from gymnasium<0.30,>=0.28.1->stable-baselines3[extra]>=2.0.0a4) (4.10.0)\r\n",
      "Collecting farama-notifications>=0.0.1\r\n",
      "  Using cached Farama_Notifications-0.0.4-py3-none-any.whl (2.5 kB)\r\n",
      "Collecting ale-py~=0.8.1\r\n",
      "  Downloading ale_py-0.8.1-cp310-cp310-manylinux_2_17_x86_64.manylinux2014_x86_64.whl (1.7 MB)\r\n",
      "\u001B[2K     \u001B[90m━━━━━━━━━━━━━━━━━━━━━━━━━━━━━━━━━━━━━━━━\u001B[0m \u001B[32m1.7/1.7 MB\u001B[0m \u001B[31m7.4 MB/s\u001B[0m eta \u001B[36m0:00:00\u001B[0m:00:01\u001B[0m00:01\u001B[0m\r\n",
      "\u001B[?25hRequirement already satisfied: six>1.9 in /usr/lib/python3/dist-packages (from tensorboard>=2.9.1->stable-baselines3[extra]>=2.0.0a4) (1.16.0)\r\n",
      "Collecting werkzeug>=1.0.1\r\n",
      "  Downloading werkzeug-3.0.3-py3-none-any.whl (227 kB)\r\n",
      "\u001B[2K     \u001B[90m━━━━━━━━━━━━━━━━━━━━━━━━━━━━━━━━━━━━━━━\u001B[0m \u001B[32m227.3/227.3 KB\u001B[0m \u001B[31m3.4 MB/s\u001B[0m eta \u001B[36m0:00:00\u001B[0m00:01\u001B[0m\r\n",
      "\u001B[?25hCollecting markdown>=2.6.8\r\n",
      "  Downloading Markdown-3.6-py3-none-any.whl (105 kB)\r\n",
      "\u001B[2K     \u001B[90m━━━━━━━━━━━━━━━━━━━━━━━━━━━━━━━━━━━━━━━\u001B[0m \u001B[32m105.4/105.4 KB\u001B[0m \u001B[31m7.8 MB/s\u001B[0m eta \u001B[36m0:00:00\u001B[0m\r\n",
      "\u001B[?25hCollecting tensorboard-data-server<0.8.0,>=0.7.0\r\n",
      "  Downloading tensorboard_data_server-0.7.2-py3-none-manylinux_2_31_x86_64.whl (6.6 MB)\r\n",
      "\u001B[2K     \u001B[90m━━━━━━━━━━━━━━━━━━━━━━━━━━━━━━━━━━━━━━━━\u001B[0m \u001B[32m6.6/6.6 MB\u001B[0m \u001B[31m6.9 MB/s\u001B[0m eta \u001B[36m0:00:00\u001B[0m00:01\u001B[0m00:01\u001B[0m\r\n",
      "\u001B[?25hRequirement already satisfied: setuptools>=41.0.0 in /usr/lib/python3/dist-packages (from tensorboard>=2.9.1->stable-baselines3[extra]>=2.0.0a4) (59.6.0)\r\n",
      "Collecting protobuf!=4.24.0,>=3.19.6\r\n",
      "  Downloading protobuf-5.26.1-cp37-abi3-manylinux2014_x86_64.whl (302 kB)\r\n",
      "\u001B[2K     \u001B[90m━━━━━━━━━━━━━━━━━━━━━━━━━━━━━━━━━━━━━━━\u001B[0m \u001B[32m302.8/302.8 KB\u001B[0m \u001B[31m4.0 MB/s\u001B[0m eta \u001B[36m0:00:00\u001B[0m00:01\u001B[0m\r\n",
      "\u001B[?25hCollecting grpcio>=1.48.2\r\n",
      "  Downloading grpcio-1.63.0-cp310-cp310-manylinux_2_17_x86_64.manylinux2014_x86_64.whl (5.6 MB)\r\n",
      "\u001B[2K     \u001B[90m━━━━━━━━━━━━━━━━━━━━━━━━━━━━━━━━━━━━━━━━\u001B[0m \u001B[32m5.6/5.6 MB\u001B[0m \u001B[31m5.9 MB/s\u001B[0m eta \u001B[36m0:00:00\u001B[0m00:01\u001B[0m00:01\u001B[0mm\r\n",
      "\u001B[?25hCollecting absl-py>=0.4\r\n",
      "  Downloading absl_py-2.1.0-py3-none-any.whl (133 kB)\r\n",
      "\u001B[2K     \u001B[90m━━━━━━━━━━━━━━━━━━━━━━━━━━━━━━━━━━━━━━\u001B[0m \u001B[32m133.7/133.7 KB\u001B[0m \u001B[31m11.7 MB/s\u001B[0m eta \u001B[36m0:00:00\u001B[0m\r\n",
      "\u001B[?25hCollecting fsspec\r\n",
      "  Downloading fsspec-2024.5.0-py3-none-any.whl (316 kB)\r\n",
      "\u001B[2K     \u001B[90m━━━━━━━━━━━━━━━━━━━━━━━━━━━━━━━━━━━━━━━\u001B[0m \u001B[32m316.1/316.1 KB\u001B[0m \u001B[31m3.5 MB/s\u001B[0m eta \u001B[36m0:00:00\u001B[0ma \u001B[36m0:00:01\u001B[0m\r\n",
      "\u001B[?25hCollecting nvidia-curand-cu12==10.3.2.106\r\n",
      "  Downloading nvidia_curand_cu12-10.3.2.106-py3-none-manylinux1_x86_64.whl (56.5 MB)\r\n",
      "\u001B[2K     \u001B[90m━━━━━━━━━━━━━━━━━━━━━━━━━━━━━━━━━━━━━━━━\u001B[0m \u001B[32m56.5/56.5 MB\u001B[0m \u001B[31m5.6 MB/s\u001B[0m eta \u001B[36m0:00:00\u001B[0m00:01\u001B[0m00:01\u001B[0m\r\n",
      "\u001B[?25hCollecting triton==2.3.0\r\n",
      "  Downloading triton-2.3.0-cp310-cp310-manylinux_2_17_x86_64.manylinux2014_x86_64.whl (168.1 MB)\r\n",
      "\u001B[2K     \u001B[90m━━━━━━━━━━━━━━━━━━━━━━━━━━━━━━━━━━━━━━━\u001B[0m \u001B[32m168.1/168.1 MB\u001B[0m \u001B[31m3.7 MB/s\u001B[0m eta \u001B[36m0:00:00\u001B[0m00:01\u001B[0m00:01\u001B[0m\r\n",
      "\u001B[?25hCollecting nvidia-cufft-cu12==11.0.2.54\r\n",
      "  Downloading nvidia_cufft_cu12-11.0.2.54-py3-none-manylinux1_x86_64.whl (121.6 MB)\r\n",
      "\u001B[2K     \u001B[90m━━━━━━━━━━━━━━━━━━━━━━━━━━━━━━━━━━━━━━━\u001B[0m \u001B[32m121.6/121.6 MB\u001B[0m \u001B[31m5.6 MB/s\u001B[0m eta \u001B[36m0:00:00\u001B[0m00:01\u001B[0m00:01\u001B[0m\r\n",
      "\u001B[?25hCollecting nvidia-cuda-nvrtc-cu12==12.1.105\r\n",
      "  Downloading nvidia_cuda_nvrtc_cu12-12.1.105-py3-none-manylinux1_x86_64.whl (23.7 MB)\r\n",
      "\u001B[2K     \u001B[90m━━━━━━━━━━━━━━━━━━━━━━━━━━━━━━━━━━━━━━━━\u001B[0m \u001B[32m23.7/23.7 MB\u001B[0m \u001B[31m10.1 MB/s\u001B[0m eta \u001B[36m0:00:00\u001B[0m00:01\u001B[0m00:01\u001B[0m\r\n",
      "\u001B[?25hCollecting nvidia-cublas-cu12==12.1.3.1\r\n",
      "  Downloading nvidia_cublas_cu12-12.1.3.1-py3-none-manylinux1_x86_64.whl (410.6 MB)\r\n",
      "\u001B[2K     \u001B[90m━━━━━━━━━━━━━━━━━━━━━━━━━━━━━━━━━━━━━━━\u001B[0m \u001B[32m410.6/410.6 MB\u001B[0m \u001B[31m2.8 MB/s\u001B[0m eta \u001B[36m0:00:00\u001B[0m00:01\u001B[0m00:01\u001B[0m\r\n",
      "\u001B[?25hRequirement already satisfied: jinja2 in /home/hikari/.local/lib/python3.10/site-packages (from torch>=1.13->stable-baselines3[extra]>=2.0.0a4) (3.1.2)\r\n",
      "Collecting nvidia-cusolver-cu12==11.4.5.107\r\n",
      "  Downloading nvidia_cusolver_cu12-11.4.5.107-py3-none-manylinux1_x86_64.whl (124.2 MB)\r\n",
      "\u001B[2K     \u001B[90m━━━━━━━━━━━━━━━━━━━━━━━━━━━━━━━━━━━━━━━\u001B[0m \u001B[32m124.2/124.2 MB\u001B[0m \u001B[31m3.4 MB/s\u001B[0m eta \u001B[36m0:00:00\u001B[0m00:01\u001B[0m00:01\u001B[0m\r\n",
      "\u001B[?25hCollecting nvidia-cudnn-cu12==8.9.2.26\r\n",
      "  Downloading nvidia_cudnn_cu12-8.9.2.26-py3-none-manylinux1_x86_64.whl (731.7 MB)\r\n",
      "\u001B[2K     \u001B[90m━━━━━━━━━━━━━━━━━━━━━━━━━━━━━━━━━━━━━\u001B[0m \u001B[32m731.7/731.7 MB\u001B[0m \u001B[31m659.0 kB/s\u001B[0m eta \u001B[36m0:00:00\u001B[0m00:01\u001B[0m00:03\u001B[0m\r\n",
      "\u001B[?25hCollecting nvidia-cusparse-cu12==12.1.0.106\r\n",
      "  Downloading nvidia_cusparse_cu12-12.1.0.106-py3-none-manylinux1_x86_64.whl (196.0 MB)\r\n",
      "\u001B[2K     \u001B[90m━━━━━━━━━━━━━━━━━━━━━━━━━━━━━━━━━━━━━━━\u001B[0m \u001B[32m196.0/196.0 MB\u001B[0m \u001B[31m2.4 MB/s\u001B[0m eta \u001B[36m0:00:00\u001B[0m00:01\u001B[0m00:01\u001B[0m\r\n",
      "\u001B[?25hCollecting nvidia-nvtx-cu12==12.1.105\r\n",
      "  Downloading nvidia_nvtx_cu12-12.1.105-py3-none-manylinux1_x86_64.whl (99 kB)\r\n",
      "\u001B[2K     \u001B[90m━━━━━━━━━━━━━━━━━━━━━━━━━━━━━━━━━━━━━━━━\u001B[0m \u001B[32m99.1/99.1 KB\u001B[0m \u001B[31m7.1 MB/s\u001B[0m eta \u001B[36m0:00:00\u001B[0m\r\n",
      "\u001B[?25hCollecting nvidia-cuda-runtime-cu12==12.1.105\r\n",
      "  Downloading nvidia_cuda_runtime_cu12-12.1.105-py3-none-manylinux1_x86_64.whl (823 kB)\r\n",
      "\u001B[2K     \u001B[90m━━━━━━━━━━━━━━━━━━━━━━━━━━━━━━━━━━━━━━━\u001B[0m \u001B[32m823.6/823.6 KB\u001B[0m \u001B[31m3.9 MB/s\u001B[0m eta \u001B[36m0:00:00\u001B[0m00:01\u001B[0m00:01\u001B[0m\r\n",
      "\u001B[?25hCollecting filelock\r\n",
      "  Downloading filelock-3.14.0-py3-none-any.whl (12 kB)\r\n",
      "Collecting nvidia-nccl-cu12==2.20.5\r\n",
      "  Downloading nvidia_nccl_cu12-2.20.5-py3-none-manylinux2014_x86_64.whl (176.2 MB)\r\n",
      "\u001B[2K     \u001B[90m━━━━━━━━━━━━━━━━━━━━━━━━━━━━━━━━━━━━━━━\u001B[0m \u001B[32m176.2/176.2 MB\u001B[0m \u001B[31m1.7 MB/s\u001B[0m eta \u001B[36m0:00:00\u001B[0m00:01\u001B[0m00:01\u001B[0m\r\n",
      "\u001B[?25hCollecting sympy\r\n",
      "  Downloading sympy-1.12-py3-none-any.whl (5.7 MB)\r\n",
      "\u001B[2K     \u001B[90m━━━━━━━━━━━━━━━━━━━━━━━━━━━━━━━━━━━━━━━━\u001B[0m \u001B[32m5.7/5.7 MB\u001B[0m \u001B[31m1.7 MB/s\u001B[0m eta \u001B[36m0:00:00\u001B[0m00:01\u001B[0m00:01\u001B[0mm\r\n",
      "\u001B[?25hCollecting networkx\r\n",
      "  Downloading networkx-3.3-py3-none-any.whl (1.7 MB)\r\n",
      "\u001B[2K     \u001B[90m━━━━━━━━━━━━━━━━━━━━━━━━━━━━━━━━━━━━━━━━\u001B[0m \u001B[32m1.7/1.7 MB\u001B[0m \u001B[31m6.1 MB/s\u001B[0m eta \u001B[36m0:00:00\u001B[0m00:01\u001B[0m00:01\u001B[0mm\r\n",
      "\u001B[?25hCollecting nvidia-cuda-cupti-cu12==12.1.105\r\n",
      "  Downloading nvidia_cuda_cupti_cu12-12.1.105-py3-none-manylinux1_x86_64.whl (14.1 MB)\r\n",
      "\u001B[2K     \u001B[90m━━━━━━━━━━━━━━━━━━━━━━━━━━━━━━━━━━━━━━━━\u001B[0m \u001B[32m14.1/14.1 MB\u001B[0m \u001B[31m6.9 MB/s\u001B[0m eta \u001B[36m0:00:00\u001B[0m00:01\u001B[0m00:01\u001B[0m\r\n",
      "\u001B[?25hCollecting nvidia-nvjitlink-cu12\r\n",
      "  Downloading nvidia_nvjitlink_cu12-12.4.127-py3-none-manylinux2014_x86_64.whl (21.1 MB)\r\n",
      "\u001B[2K     \u001B[90m━━━━━━━━━━━━━━━━━━━━━━━━━━━━━━━━━━━━━━━━\u001B[0m \u001B[32m21.1/21.1 MB\u001B[0m \u001B[31m4.1 MB/s\u001B[0m eta \u001B[36m0:00:00\u001B[0m00:01\u001B[0m00:01\u001B[0m\r\n",
      "\u001B[?25hRequirement already satisfied: kiwisolver>=1.3.1 in /home/hikari/.local/lib/python3.10/site-packages (from matplotlib->stable-baselines3[extra]>=2.0.0a4) (1.4.5)\r\n",
      "Requirement already satisfied: packaging>=20.0 in /home/hikari/.local/lib/python3.10/site-packages (from matplotlib->stable-baselines3[extra]>=2.0.0a4) (23.2)\r\n",
      "Requirement already satisfied: contourpy>=1.0.1 in /home/hikari/.local/lib/python3.10/site-packages (from matplotlib->stable-baselines3[extra]>=2.0.0a4) (1.2.0)\r\n",
      "Requirement already satisfied: cycler>=0.10 in /home/hikari/.local/lib/python3.10/site-packages (from matplotlib->stable-baselines3[extra]>=2.0.0a4) (0.12.1)\r\n",
      "Requirement already satisfied: fonttools>=4.22.0 in /home/hikari/.local/lib/python3.10/site-packages (from matplotlib->stable-baselines3[extra]>=2.0.0a4) (4.49.0)\r\n",
      "Requirement already satisfied: pyparsing>=2.3.1 in /usr/lib/python3/dist-packages (from matplotlib->stable-baselines3[extra]>=2.0.0a4) (2.4.7)\r\n",
      "Requirement already satisfied: python-dateutil>=2.7 in /home/hikari/.local/lib/python3.10/site-packages (from matplotlib->stable-baselines3[extra]>=2.0.0a4) (2.8.2)\r\n",
      "Collecting tzdata>=2022.7\r\n",
      "  Downloading tzdata-2024.1-py2.py3-none-any.whl (345 kB)\r\n",
      "\u001B[2K     \u001B[90m━━━━━━━━━━━━━━━━━━━━━━━━━━━━━━━━━━━━━━━\u001B[0m \u001B[32m345.4/345.4 KB\u001B[0m \u001B[31m5.2 MB/s\u001B[0m eta \u001B[36m0:00:00\u001B[0ma \u001B[36m0:00:01\u001B[0m\r\n",
      "\u001B[?25hCollecting pytz>=2020.1\r\n",
      "  Downloading pytz-2024.1-py2.py3-none-any.whl (505 kB)\r\n",
      "\u001B[2K     \u001B[90m━━━━━━━━━━━━━━━━━━━━━━━━━━━━━━━━━━━━━━━\u001B[0m \u001B[32m505.5/505.5 KB\u001B[0m \u001B[31m3.6 MB/s\u001B[0m eta \u001B[36m0:00:00\u001B[0m00:01\u001B[0m00:01\u001B[0m\r\n",
      "\u001B[?25hCollecting markdown-it-py>=2.2.0\r\n",
      "  Downloading markdown_it_py-3.0.0-py3-none-any.whl (87 kB)\r\n",
      "\u001B[2K     \u001B[90m━━━━━━━━━━━━━━━━━━━━━━━━━━━━━━━━━━━━━━━━\u001B[0m \u001B[32m87.5/87.5 KB\u001B[0m \u001B[31m4.4 MB/s\u001B[0m eta \u001B[36m0:00:00\u001B[0m\r\n",
      "\u001B[?25hRequirement already satisfied: pygments<3.0.0,>=2.13.0 in /home/hikari/.local/lib/python3.10/site-packages (from rich->stable-baselines3[extra]>=2.0.0a4) (2.17.2)\r\n",
      "Collecting importlib-resources\r\n",
      "  Downloading importlib_resources-6.4.0-py3-none-any.whl (38 kB)\r\n",
      "Collecting mdurl~=0.1\r\n",
      "  Downloading mdurl-0.1.2-py3-none-any.whl (10.0 kB)\r\n",
      "Requirement already satisfied: MarkupSafe>=2.1.1 in /home/hikari/.local/lib/python3.10/site-packages (from werkzeug>=1.0.1->tensorboard>=2.9.1->stable-baselines3[extra]>=2.0.0a4) (2.1.2)\r\n",
      "Requirement already satisfied: certifi>=2017.4.17 in /home/hikari/.local/lib/python3.10/site-packages (from requests->autorom[accept-rom-license]~=0.6.1->stable-baselines3[extra]>=2.0.0a4) (2023.5.7)\r\n",
      "Requirement already satisfied: charset-normalizer<4,>=2 in /home/hikari/.local/lib/python3.10/site-packages (from requests->autorom[accept-rom-license]~=0.6.1->stable-baselines3[extra]>=2.0.0a4) (3.1.0)\r\n",
      "Requirement already satisfied: urllib3<3,>=1.21.1 in /home/hikari/.local/lib/python3.10/site-packages (from requests->autorom[accept-rom-license]~=0.6.1->stable-baselines3[extra]>=2.0.0a4) (1.26.15)\r\n",
      "Requirement already satisfied: idna<4,>=2.5 in /home/hikari/.local/lib/python3.10/site-packages (from requests->autorom[accept-rom-license]~=0.6.1->stable-baselines3[extra]>=2.0.0a4) (3.4)\r\n",
      "Collecting mpmath>=0.19\r\n",
      "  Downloading mpmath-1.3.0-py3-none-any.whl (536 kB)\r\n",
      "\u001B[2K     \u001B[90m━━━━━━━━━━━━━━━━━━━━━━━━━━━━━━━━━━━━━━━\u001B[0m \u001B[32m536.2/536.2 KB\u001B[0m \u001B[31m4.8 MB/s\u001B[0m eta \u001B[36m0:00:00\u001B[0m00:01\u001B[0m00:01\u001B[0m\r\n",
      "\u001B[?25hBuilding wheels for collected packages: AutoROM.accept-rom-license\r\n",
      "  Building wheel for AutoROM.accept-rom-license (pyproject.toml) ... \u001B[?25ldone\r\n",
      "\u001B[?25h  Created wheel for AutoROM.accept-rom-license: filename=AutoROM.accept_rom_license-0.6.1-py3-none-any.whl size=440873 sha256=7aedcfd313ce1c186d7c26b10e60134980c4b86d63aef1449860db18b6aa469a\r\n",
      "  Stored in directory: /home/hikari/.cache/pip/wheels/6b/1b/ef/a43ff1a2f1736d5711faa1ba4c1f61be1131b8899e6a057811\r\n",
      "Successfully built AutoROM.accept-rom-license\r\n",
      "Installing collected packages: pytz, mpmath, farama-notifications, werkzeug, tzdata, tensorboard-data-server, sympy, pygame, protobuf, nvidia-nvtx-cu12, nvidia-nvjitlink-cu12, nvidia-nccl-cu12, nvidia-curand-cu12, nvidia-cufft-cu12, nvidia-cuda-runtime-cu12, nvidia-cuda-nvrtc-cu12, nvidia-cuda-cupti-cu12, nvidia-cublas-cu12, networkx, mdurl, markdown, importlib-resources, grpcio, fsspec, filelock, cloudpickle, absl-py, triton, tensorboard, pandas, nvidia-cusparse-cu12, nvidia-cudnn-cu12, markdown-it-py, gymnasium, AutoROM.accept-rom-license, autorom, ale-py, shimmy, rich, nvidia-cusolver-cu12, torch, stable-baselines3\r\n",
      "Successfully installed AutoROM.accept-rom-license-0.6.1 absl-py-2.1.0 ale-py-0.8.1 autorom-0.6.1 cloudpickle-3.0.0 farama-notifications-0.0.4 filelock-3.14.0 fsspec-2024.5.0 grpcio-1.63.0 gymnasium-0.29.1 importlib-resources-6.4.0 markdown-3.6 markdown-it-py-3.0.0 mdurl-0.1.2 mpmath-1.3.0 networkx-3.3 nvidia-cublas-cu12-12.1.3.1 nvidia-cuda-cupti-cu12-12.1.105 nvidia-cuda-nvrtc-cu12-12.1.105 nvidia-cuda-runtime-cu12-12.1.105 nvidia-cudnn-cu12-8.9.2.26 nvidia-cufft-cu12-11.0.2.54 nvidia-curand-cu12-10.3.2.106 nvidia-cusolver-cu12-11.4.5.107 nvidia-cusparse-cu12-12.1.0.106 nvidia-nccl-cu12-2.20.5 nvidia-nvjitlink-cu12-12.4.127 nvidia-nvtx-cu12-12.1.105 pandas-2.2.2 protobuf-5.26.1 pygame-2.5.2 pytz-2024.1 rich-13.7.1 shimmy-1.3.0 stable-baselines3-2.4.0a1 sympy-1.12 tensorboard-2.16.2 tensorboard-data-server-0.7.2 torch-2.3.0 triton-2.3.0 tzdata-2024.1 werkzeug-3.0.3\r\n"
     ]
    }
   ],
   "source": [
    "!apt-get install ffmpeg freeglut3-dev xvfb  # For visualization\n",
    "!pip install \"stable-baselines3[extra]>=2.0.0a4\""
   ]
  },
  {
   "cell_type": "markdown",
   "metadata": {
    "id": "FtY8FhliLsGm"
   },
   "source": [
    "## Imports"
   ]
  },
  {
   "cell_type": "code",
   "execution_count": 2,
   "metadata": {
    "id": "BIedd7Pz9sOs",
    "ExecuteTime": {
     "end_time": "2024-05-19T20:12:38.601650900Z",
     "start_time": "2024-05-19T20:12:37.617454600Z"
    }
   },
   "outputs": [],
   "source": [
    "import gymnasium as gym\n",
    "import numpy as np"
   ]
  },
  {
   "cell_type": "code",
   "execution_count": 3,
   "metadata": {
    "id": "R7tKaBFrTR0a",
    "ExecuteTime": {
     "end_time": "2024-05-19T20:12:44.371209600Z",
     "start_time": "2024-05-19T20:12:39.963247700Z"
    }
   },
   "outputs": [],
   "source": [
    "from stable_baselines3 import PPO"
   ]
  },
  {
   "cell_type": "code",
   "execution_count": 4,
   "metadata": {
    "id": "ROUJr675TT01",
    "colab": {
     "base_uri": "https://localhost:8080/"
    },
    "outputId": "b087ab69-1786-4763-e579-0b14505db1ff",
    "ExecuteTime": {
     "end_time": "2024-05-19T20:12:44.382720200Z",
     "start_time": "2024-05-19T20:12:44.354061200Z"
    }
   },
   "outputs": [],
   "source": [
    "from stable_baselines3.ppo.policies import MlpPolicy\n",
    "from gymnasium import Env\n",
    "from stable_baselines3.common.base_class import BaseAlgorithm"
   ]
  },
  {
   "cell_type": "markdown",
   "source": [
    "## Uczenie modelu"
   ],
   "metadata": {
    "id": "qsuRmKkfOF3D"
   }
  },
  {
   "cell_type": "markdown",
   "source": [
    "W projekcie wykorzystaliśmy ciągłą wersję środowiska MountainCar.\n",
    "\n",
    "MDP Mountain Car to deterministyczne środowisko Markowa (MDP) 2D, w którym umieszczony jest samochód na dole sinusoidalnej doliny. Jedyne dostępne akcje to przyspieszenia, które można zastosować do samochodu w dwóch dostępnych kierunkach (przód-tył samochodu). Celem MDP jest strategiczne przyspieszenie samochodu, tak, aby osiągnąć stan docelowy na szczycie prawego wzgórza. W bibliotece Gymnasium istnieją dwie wersje tego środowiska: jedna z dyskretnymi akcjami i druga z ciągłymi. Wersja użyta w tym projekcie korzysta z ciągłych akcji."
   ],
   "metadata": {
    "id": "mkiD--j3MB_w"
   }
  },
  {
   "cell_type": "code",
   "execution_count": 5,
   "metadata": {
    "id": "pUWGZp3i9wyf",
    "ExecuteTime": {
     "end_time": "2024-05-19T20:12:44.383812100Z",
     "start_time": "2024-05-19T20:12:44.359583Z"
    }
   },
   "outputs": [],
   "source": [
    "env = gym.make(\"MountainCarContinuous-v0\")"
   ]
  },
  {
   "cell_type": "markdown",
   "source": [
    "Do usprawnienia manipulacji hiperparametrów stworzyliśmy klasę pomocniczą, z domyślnymi wartościami parametrów ustawionymi według rekomendacji [repozytorium RL Zoo](https://github.com/DLR-RM/rl-baselines3-zoo)"
   ],
   "metadata": {
    "id": "4r6LL9nSMSBE"
   }
  },
  {
   "cell_type": "code",
   "source": [
    "from typing import Dict\n",
    "from dataclasses import dataclass, asdict, field\n",
    "\n",
    "@dataclass\n",
    "class Params:\n",
    "  normalize_advantage: bool = True\n",
    "  policy: str = \"MlpPolicy\"\n",
    "  batch_size: int = 32\n",
    "  n_steps: int = 32\n",
    "  gamma: float = 0.9999\n",
    "  learning_rate: float = float(7.77e-05)\n",
    "  ent_coef: float = 0.00429\n",
    "  clip_range: float = 0.1\n",
    "  n_epochs: int = 100\n",
    "  gae_lambda: float = 0.9\n",
    "  max_grad_norm: int = 5\n",
    "  vf_coef: float = 0.19\n",
    "  use_sde: bool = True\n",
    "  policy_kwargs: Dict = field(default_factory=lambda: dict(log_std_init=-3.29, ortho_init=False))"
   ],
   "metadata": {
    "id": "ZXhFhzDxlzFg",
    "ExecuteTime": {
     "end_time": "2024-05-19T20:12:46.357860400Z",
     "start_time": "2024-05-19T20:12:46.339131100Z"
    }
   },
   "execution_count": 6,
   "outputs": []
  },
  {
   "cell_type": "markdown",
   "source": [
    "W bibliotece stable_baselines dostępna jest już wyspecjalizowana funkcja do ewaluacji efektów uczenia modelu. Na potrzeby zadania wykorzystaliśmy ją do zbierania statystyk."
   ],
   "metadata": {
    "id": "upSIcgEQLk2N"
   }
  },
  {
   "cell_type": "code",
   "execution_count": 7,
   "metadata": {
    "id": "8z6K9YImYJEx",
    "ExecuteTime": {
     "end_time": "2024-05-19T20:12:50.183780900Z",
     "start_time": "2024-05-19T20:12:50.136863200Z"
    }
   },
   "outputs": [],
   "source": [
    "from stable_baselines3.common.evaluation import evaluate_policy"
   ]
  },
  {
   "cell_type": "code",
   "source": [
    "import matplotlib.pyplot as plt\n",
    "import time\n",
    "\n",
    "def evaluate_and_plot(model: BaseAlgorithm, env: Env, n_eval_episodes: int, warn: bool, deterministic:bool, repeat: int):\n",
    "  rewards = []\n",
    "  std_rewards = []\n",
    "  total_time = 0\n",
    "  for i in range(repeat):\n",
    "    start_time = time.time()\n",
    "    mean_reward, std_reward = evaluate_policy(model, env, n_eval_episodes, deterministic)\n",
    "    end_time = time.time() - start_time\n",
    "    rewards.append(mean_reward)\n",
    "    std_rewards.append(std_reward)\n",
    "    print(f\"Iteration: {i+1}, Evaluation time: {end_time}\")\n",
    "    total_time += end_time\n",
    "  print(f\"Total evaluation time: {total_time}\")\n",
    "\n",
    "  plt.figure(figsize=(10, 5))  # Set the figure size\n",
    "  y, x = zip(*[(reward, index) for index, reward in enumerate(rewards)])\n",
    "\n",
    "  plt.plot(list(x), list(y), \"-b\", label=\"mean reward\")\n",
    "  plt.plot(list(x), std_rewards, \"-r\", label=\"std deviation\")\n",
    "  plt.legend(loc=\"upper left\")\n",
    "\n",
    "  plt.xlabel('Episode')\n",
    "  plt.ylabel('Reward')\n",
    "\n",
    "  plt.title('Rewards per Episode - Mountain cart continuous PPO')\n",
    "  plt.savefig('rewards_plot_ppo.png')\n",
    "  plt.show()\n"
   ],
   "metadata": {
    "colab": {
     "base_uri": "https://localhost:8080/"
    },
    "id": "qsSP7ALHX6wy",
    "outputId": "3e09a04e-8fe6-4f94-db0f-238b2a0d3233",
    "ExecuteTime": {
     "end_time": "2024-05-19T20:12:56.787289400Z",
     "start_time": "2024-05-19T20:12:56.716730500Z"
    }
   },
   "execution_count": 9,
   "outputs": []
  },
  {
   "cell_type": "markdown",
   "metadata": {
    "id": "xVm9QPNVwKXN"
   },
   "source": [
    "### Wizualizacja uczenia - nagranie wideo\n"
   ]
  },
  {
   "cell_type": "code",
   "execution_count": 10,
   "metadata": {
    "id": "MPyfQxD5z26J",
    "ExecuteTime": {
     "end_time": "2024-05-19T20:12:59.085993300Z",
     "start_time": "2024-05-19T20:12:59.054777900Z"
    }
   },
   "outputs": [],
   "source": [
    "# Set up fake display; otherwise rendering will fail\n",
    "import os\n",
    "os.system(\"Xvfb :1 -screen 0 1024x768x24 &\")\n",
    "os.environ['DISPLAY'] = ':1'"
   ]
  },
  {
   "cell_type": "code",
   "execution_count": 11,
   "metadata": {
    "id": "SLzXxO8VMD6N",
    "ExecuteTime": {
     "end_time": "2024-05-19T20:13:06.752514600Z",
     "start_time": "2024-05-19T20:13:06.677561800Z"
    }
   },
   "outputs": [],
   "source": [
    "import base64\n",
    "from pathlib import Path\n",
    "\n",
    "from IPython import display as ipythondisplay\n",
    "\n",
    "\n",
    "def show_videos(video_path=\"\", prefix=\"\"):\n",
    "    \"\"\"\n",
    "    Taken from https://github.com/eleurent/highway-env\n",
    "\n",
    "    :param video_path: (str) Path to the folder containing videos\n",
    "    :param prefix: (str) Filter the video, showing only the only starting with this prefix\n",
    "    \"\"\"\n",
    "    html = []\n",
    "    for mp4 in Path(video_path).glob(\"{}*.mp4\".format(prefix)):\n",
    "        video_b64 = base64.b64encode(mp4.read_bytes())\n",
    "        html.append(\n",
    "            \"\"\"<video alt=\"{}\" autoplay\n",
    "                    loop controls style=\"height: 400px;\">\n",
    "                    <source src=\"data:video/mp4;base64,{}\" type=\"video/mp4\" />\n",
    "                </video>\"\"\".format(\n",
    "                mp4, video_b64.decode(\"ascii\")\n",
    "            )\n",
    "        )\n",
    "    ipythondisplay.display(ipythondisplay.HTML(data=\"<br>\".join(html)))"
   ]
  },
  {
   "cell_type": "markdown",
   "source": [
    "Do \"nagrania\" wideo wykorzystany został wrapper VecVideoRecorder."
   ],
   "metadata": {
    "id": "d7x2QtGOL27K"
   }
  },
  {
   "cell_type": "code",
   "execution_count": 12,
   "metadata": {
    "id": "Trag9dQpOIhx",
    "ExecuteTime": {
     "end_time": "2024-05-19T20:13:11.065253800Z",
     "start_time": "2024-05-19T20:13:11.002047Z"
    }
   },
   "outputs": [],
   "source": [
    "from stable_baselines3.common.vec_env import VecVideoRecorder, DummyVecEnv\n",
    "\n",
    "\n",
    "def record_video(env_id, model, video_length=500, prefix=\"\", video_folder=\"videos/\"):\n",
    "    \"\"\"\n",
    "    :param env_id: (str)\n",
    "    :param model: (RL model)\n",
    "    :param video_length: (int)\n",
    "    :param prefix: (str)\n",
    "    :param video_folder: (str)\n",
    "    \"\"\"\n",
    "    eval_env = DummyVecEnv([lambda: gym.make(env_id, render_mode=\"rgb_array\")])\n",
    "    # Start the video at step=0 and record 500 steps\n",
    "    eval_env = VecVideoRecorder(\n",
    "        eval_env,\n",
    "        video_folder=video_folder,\n",
    "        record_video_trigger=lambda step: step == 0,\n",
    "        video_length=video_length,\n",
    "        name_prefix=prefix,\n",
    "    )\n",
    "\n",
    "    obs = eval_env.reset()\n",
    "    for _ in range(video_length):\n",
    "        action, _ = model.predict(obs)\n",
    "        obs, _, _, _ = eval_env.step(action)\n",
    "\n",
    "    # Close the video recorder\n",
    "    eval_env.close()"
   ]
  },
  {
   "cell_type": "markdown",
   "metadata": {
    "id": "KOObbeu5MMlR"
   },
   "source": [
    "## Uczenie modelu wraz z wizualizacją statystyk oraz nagranie zachowania agenta\n",
    "\n",
    "\n"
   ]
  },
  {
   "cell_type": "code",
   "source": [
    "def create_model_and_evaluate(params, env, learning_steps, repeat, policy_kwargs = None, filename = \"ppo-mountain-car\"):\n",
    "  merged_dict = asdict(params) | {\"env\": env}\n",
    "  if policy_kwargs is not None:\n",
    "    merged_dict = merged_dict | {\"policy_kwargs\": policy_kwargs}\n",
    "\n",
    "  model = PPO(**merged_dict)\n",
    "\n",
    "  start_time = time.time()\n",
    "  model.learn(total_timesteps=learning_steps)\n",
    "  end_time = time.time() - start_time\n",
    "  print(f\"Total learning time: {end_time}\")\n",
    "\n",
    "  evaluate_and_plot(model, env, n_eval_episodes=100, warn=False, deterministic=False, repeat=repeat)\n",
    "\n",
    "  record_video(\"MountainCarContinuous-v0\", model, video_length=2000, prefix=filename)\n",
    "\n",
    "  return model"
   ],
   "metadata": {
    "id": "MYP-lm2ymc0-",
    "ExecuteTime": {
     "end_time": "2024-05-19T20:13:13.086127400Z",
     "start_time": "2024-05-19T20:13:13.062115200Z"
    }
   },
   "execution_count": 13,
   "outputs": []
  },
  {
   "cell_type": "markdown",
   "source": [
    "### Parametry domyślne"
   ],
   "metadata": {
    "id": "bYePOKcPLLi9"
   }
  },
  {
   "cell_type": "code",
   "source": [
    "params = Params()\n",
    "create_model_and_evaluate(params, env, 50_000, 10, filename=\"ppo-mountain-car-hipar\")"
   ],
   "metadata": {
    "colab": {
     "base_uri": "https://localhost:8080/",
     "height": 906
    },
    "id": "pzldKZrIZWV3",
    "outputId": "d9b21632-4cfb-453f-e868-5a03d7e55ef4",
    "is_executing": true,
    "ExecuteTime": {
     "start_time": "2024-05-19T20:13:16.517387800Z"
    }
   },
   "execution_count": null,
   "outputs": []
  },
  {
   "cell_type": "markdown",
   "source": [
    "### Różne wariacje hiperparapmetrów"
   ],
   "metadata": {
    "id": "ote0abHFQlSW"
   }
  },
  {
   "cell_type": "code",
   "source": [
    "params = Params()\n",
    "create_model_and_evaluate(params, env, 50_000, 10, filename=\"ppo-mountain-car-hipar\")"
   ],
   "metadata": {
    "id": "Pmhw4VBMQuWt",
    "is_executing": true
   },
   "execution_count": null,
   "outputs": []
  },
  {
   "cell_type": "code",
   "source": [
    "params = Params()\n",
    "create_model_and_evaluate(params, env, 50_000, 10, filename=\"ppo-mountain-car-hipar\")"
   ],
   "metadata": {
    "id": "0ve7V0dOQvye",
    "is_executing": true
   },
   "execution_count": null,
   "outputs": []
  },
  {
   "cell_type": "code",
   "execution_count": null,
   "metadata": {
    "id": "-n4i-fW3NojZ",
    "colab": {
     "base_uri": "https://localhost:8080/",
     "height": 825
    },
    "outputId": "58fca3ae-38f0-4842-c9b6-715681c9d546",
    "is_executing": true
   },
   "outputs": [],
   "source": [
    "show_videos(\"videos\", prefix=\"ppo-mountain-car-hipar\")"
   ]
  },
  {
   "cell_type": "markdown",
   "source": [
    "## Eksperymenty z różnymi architekturami sieci"
   ],
   "metadata": {
    "id": "SNvLA4R5Q7D-"
   }
  },
  {
   "cell_type": "markdown",
   "source": [
    "### Domyślnie wykorzystywana sieć - MlpPolicy"
   ],
   "metadata": {
    "id": "kRH3BExFUvS1"
   }
  },
  {
   "cell_type": "markdown",
   "source": [
    "### Modyfikacja pierwsza"
   ],
   "metadata": {
    "id": "n-dnVgnTBY1Y"
   }
  },
  {
   "cell_type": "code",
   "source": [
    "import torch as th"
   ],
   "metadata": {
    "id": "bbgb-TT2FA9F",
    "is_executing": true
   },
   "execution_count": null,
   "outputs": []
  },
  {
   "cell_type": "code",
   "source": [
    "params = Params()\n",
    "policy_kwargs = dict(activation_fn=th.nn.ReLU,\n",
    "                     net_arch=dict(pi=[32], vf=[16, 8, 8]))\n",
    "create_model_and_evaluate(params, env, 1_000, 10, policy_kwargs, filename=\"ppo-mountain-car-arch\")"
   ],
   "metadata": {
    "colab": {
     "base_uri": "https://localhost:8080/",
     "height": 515
    },
    "id": "hZlRsrBiA6Iq",
    "outputId": "e8455d21-cb8e-46a9-8d1c-3abdf7ded69d",
    "is_executing": true
   },
   "execution_count": null,
   "outputs": []
  },
  {
   "cell_type": "markdown",
   "source": [
    "### Modyfikacja druga"
   ],
   "metadata": {
    "id": "JVzmXlcPB3a6"
   }
  },
  {
   "cell_type": "code",
   "source": [
    "params = Params()\n",
    "policy_kwargs = dict(activation_fn=th.nn.Tanh,\n",
    "                     net_arch=dict(pi=[16, 16, 16], vf=[8, 8]))\n",
    "create_model_and_evaluate(params, env, 50_000, 10, policy_kwargs, filename=\"ppo-mountain-car-arch\")"
   ],
   "metadata": {
    "colab": {
     "base_uri": "https://localhost:8080/",
     "height": 373
    },
    "outputId": "609aa130-d03d-417a-9c4d-f0c84b3677b4",
    "id": "-P74vhxSCMF6",
    "is_executing": true
   },
   "execution_count": null,
   "outputs": []
  },
  {
   "cell_type": "markdown",
   "source": [
    "## Wizualizacja sieci\n",
    "\n",
    "**PPO** jest metodą policy gradient, co oznacza, że bezpośrednio optymalizuje politykę agenta. Funkcja polityki agenta to sieć neuronowa, która jest aktualizowana (dość powoli, w celu ograniczenia popełniania złych decyzji przez agenta, prowadzących w zupełnie innym kierunku) na podstawie rezultatów podejmowanych akcji i przyznawanych za nie nagród.\n",
    "\n",
    "PPO zawiera w sobie dwa modele, aktora i krytyka, o dwóch różnych architekturach, co widać na obrazku niżej:\n",
    "\n",
    "![ppo](ppo.png)\n",
    "\n",
    "Nasza początkowa sieć wykorzystuje dwie gęste warstwy w modelu aktora oraz krytyka (jest to wartość domyślna). Wszystkie mają po 64 neurony. Funkcja aktywacji to ReLu.\n",
    "\n",
    "![ppo64](6464.png)\n",
    "\n",
    "### Modyfikacja 1\n",
    "\n",
    "W tym wypadku architektura modelu aktora wygląda następująco:\n",
    "\n",
    "![actor32](32.png)\n",
    "\n",
    "Natomiast krytyka:\n",
    "\n",
    "![critic1688](16881.png)\n",
    "\n",
    "### Modyfikacja 2\n",
    "\n",
    "W tym wypadku architektura modelu aktora wygląda następująco:\n",
    "\n",
    "![actor161616](161616.png)\n",
    "\n",
    "Natomiast krytyka:\n",
    "\n",
    "![critic88](881.png)"
   ],
   "metadata": {
    "collapsed": false
   }
  },
  {
   "cell_type": "markdown",
   "source": [
    "## Obserwacja zachowania agenta z wyłączonym trybem eksploracji"
   ],
   "metadata": {
    "id": "hm9ZAWR3Ry0C"
   }
  }
 ],
 "metadata": {
  "colab": {
   "provenance": []
  },
  "kernelspec": {
   "name": "python3",
   "language": "python",
   "display_name": "Python 3 (ipykernel)"
  },
  "language_info": {
   "codemirror_mode": {
    "name": "ipython",
    "version": 3
   },
   "file_extension": ".py",
   "mimetype": "text/x-python",
   "name": "python",
   "nbconvert_exporter": "python",
   "pygments_lexer": "ipython3",
   "version": "3.10.9"
  }
 },
 "nbformat": 4,
 "nbformat_minor": 0
}
